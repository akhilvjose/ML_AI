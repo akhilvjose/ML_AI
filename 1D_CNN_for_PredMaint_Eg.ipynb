{
  "nbformat": 4,
  "nbformat_minor": 0,
  "metadata": {
    "colab": {
      "provenance": [],
      "gpuType": "T4",
      "authorship_tag": "ABX9TyNjvy11Rwy8hvj8KkDtJSeT",
      "include_colab_link": true
    },
    "kernelspec": {
      "name": "python3",
      "display_name": "Python 3"
    },
    "language_info": {
      "name": "python"
    },
    "accelerator": "GPU"
  },
  "cells": [
    {
      "cell_type": "markdown",
      "metadata": {
        "id": "view-in-github",
        "colab_type": "text"
      },
      "source": [
        "<a href=\"https://colab.research.google.com/github/akhilvjose/ML_AI/blob/main/1D_CNN_for_PredMaint_Eg.ipynb\" target=\"_parent\"><img src=\"https://colab.research.google.com/assets/colab-badge.svg\" alt=\"Open In Colab\"/></a>"
      ]
    },
    {
      "cell_type": "code",
      "execution_count": 1,
      "metadata": {
        "id": "Mlnlw4-kH3Vr"
      },
      "outputs": [],
      "source": [
        "import numpy as np\n",
        "import tensorflow as tf\n",
        "from tensorflow.keras.models import Sequential\n",
        "from tensorflow.keras.layers import Conv1D, MaxPooling1D, Flatten, Dense"
      ]
    },
    {
      "cell_type": "markdown",
      "source": [
        "# Step 1: Generate Simulated Data\n",
        "# Simulating 1000 samples of vibration data\n",
        "# Each sample has 100 timesteps and 1 feature (vibration intensity)"
      ],
      "metadata": {
        "id": "bNKpvNOhIGhs"
      }
    },
    {
      "cell_type": "code",
      "source": [
        "# \"Normal\" data (label: 0)\n",
        "normal_data = np.random.normal(loc=0.5, scale=0.1, size=(500, 100, 1))  # Vibration centered around 0.5\n",
        "normal_labels = np.zeros(500)  # Label 0 for \"normal\""
      ],
      "metadata": {
        "id": "Kigsa___II0z"
      },
      "execution_count": 8,
      "outputs": []
    },
    {
      "cell_type": "code",
      "source": [
        "# \"Faulty\" data (label: 1)\n",
        "faulty_data = np.random.normal(loc=0.8, scale=0.1, size=(500, 100, 1))  # Vibration centered around 0.8\n",
        "faulty_labels = np.ones(500)  # Label 1 for \"faulty\""
      ],
      "metadata": {
        "id": "bxhFgVOtILuw"
      },
      "execution_count": 9,
      "outputs": []
    },
    {
      "cell_type": "code",
      "source": [
        "# Combine the data and labels\n",
        "X = np.concatenate([normal_data, faulty_data], axis=0)\n",
        "y = np.concatenate([normal_labels, faulty_labels], axis=0)"
      ],
      "metadata": {
        "id": "gtBHhx7QISFG"
      },
      "execution_count": 10,
      "outputs": []
    },
    {
      "cell_type": "code",
      "source": [
        "print(\"X shape:\", X.shape)\n",
        "print(\"y shape:\", y.shape)"
      ],
      "metadata": {
        "id": "EC33WLuZOH86",
        "outputId": "d6109335-21b1-451a-a9f6-80b03786cf7f",
        "colab": {
          "base_uri": "https://localhost:8080/"
        }
      },
      "execution_count": 11,
      "outputs": [
        {
          "output_type": "stream",
          "name": "stdout",
          "text": [
            "X shape: (1000, 100, 1)\n",
            "y shape: (1000,)\n"
          ]
        }
      ]
    },
    {
      "cell_type": "code",
      "source": [
        "# Shuffle the data\n",
        "indices = np.arange(len(X))\n",
        "np.random.shuffle(indices)\n",
        "X = X[indices]\n",
        "y = y[indices]"
      ],
      "metadata": {
        "id": "1zKdNn6vIVQk"
      },
      "execution_count": 12,
      "outputs": []
    },
    {
      "cell_type": "markdown",
      "source": [
        "# Step 2: Build the 1D CNN Model"
      ],
      "metadata": {
        "id": "Md9JqOR-IXcZ"
      }
    },
    {
      "cell_type": "code",
      "source": [
        "model = Sequential()\n",
        "model.add(Conv1D(filters=16, kernel_size=3, activation='relu', input_shape=(100, 1)))"
      ],
      "metadata": {
        "colab": {
          "base_uri": "https://localhost:8080/"
        },
        "id": "59TKDA42Idx4",
        "outputId": "a8c21636-f99e-4928-a1b2-8d72422a574f"
      },
      "execution_count": 13,
      "outputs": [
        {
          "output_type": "stream",
          "name": "stderr",
          "text": [
            "/usr/local/lib/python3.11/dist-packages/keras/src/layers/convolutional/base_conv.py:107: UserWarning: Do not pass an `input_shape`/`input_dim` argument to a layer. When using Sequential models, prefer using an `Input(shape)` object as the first layer in the model instead.\n",
            "  super().__init__(activity_regularizer=activity_regularizer, **kwargs)\n"
          ]
        }
      ]
    },
    {
      "cell_type": "code",
      "source": [
        "# Add a MaxPooling1D layer to reduce the data size\n",
        "model.add(MaxPooling1D(pool_size=2))"
      ],
      "metadata": {
        "id": "9g_CKqjxIipQ"
      },
      "execution_count": 14,
      "outputs": []
    },
    {
      "cell_type": "code",
      "source": [
        "# Add another Conv1D layer to learn more complex patterns\n",
        "model.add(Conv1D(filters=32, kernel_size=3, activation='relu'))\n",
        "model.add(MaxPooling1D(pool_size=2))"
      ],
      "metadata": {
        "id": "4IDu03WjIkAU"
      },
      "execution_count": 15,
      "outputs": []
    },
    {
      "cell_type": "code",
      "source": [
        "# Flatten the data and add a Dense layer for output\n",
        "model.add(Flatten())\n",
        "model.add(Dense(units=1, activation='sigmoid'))  # Sigmoid for binary classification"
      ],
      "metadata": {
        "id": "sM0JRzwiIn6W"
      },
      "execution_count": 16,
      "outputs": []
    },
    {
      "cell_type": "code",
      "source": [
        "# Compile the model\n",
        "model.compile(optimizer='adam', loss='binary_crossentropy', metrics=['accuracy'])"
      ],
      "metadata": {
        "id": "Ke1K0ya9IpiU"
      },
      "execution_count": 18,
      "outputs": []
    },
    {
      "cell_type": "markdown",
      "source": [
        "# Step 3: Train the Model"
      ],
      "metadata": {
        "id": "R6BGUekLIsKv"
      }
    },
    {
      "cell_type": "code",
      "source": [
        "model.fit(X, y, epochs=10, batch_size=32, validation_split=0.2)"
      ],
      "metadata": {
        "colab": {
          "base_uri": "https://localhost:8080/"
        },
        "id": "WA_-4xhMIvGV",
        "outputId": "052f508f-4656-4475-d7e9-ee0fd4f3430f"
      },
      "execution_count": 19,
      "outputs": [
        {
          "output_type": "stream",
          "name": "stdout",
          "text": [
            "Epoch 1/10\n",
            "\u001b[1m25/25\u001b[0m \u001b[32m━━━━━━━━━━━━━━━━━━━━\u001b[0m\u001b[37m\u001b[0m \u001b[1m5s\u001b[0m 64ms/step - accuracy: 0.5097 - loss: 0.6732 - val_accuracy: 0.5600 - val_loss: 0.6365\n",
            "Epoch 2/10\n",
            "\u001b[1m25/25\u001b[0m \u001b[32m━━━━━━━━━━━━━━━━━━━━\u001b[0m\u001b[37m\u001b[0m \u001b[1m0s\u001b[0m 5ms/step - accuracy: 0.4886 - loss: 0.6368 - val_accuracy: 0.6200 - val_loss: 0.5492\n",
            "Epoch 3/10\n",
            "\u001b[1m25/25\u001b[0m \u001b[32m━━━━━━━━━━━━━━━━━━━━\u001b[0m\u001b[37m\u001b[0m \u001b[1m0s\u001b[0m 5ms/step - accuracy: 0.8137 - loss: 0.5238 - val_accuracy: 1.0000 - val_loss: 0.3507\n",
            "Epoch 4/10\n",
            "\u001b[1m25/25\u001b[0m \u001b[32m━━━━━━━━━━━━━━━━━━━━\u001b[0m\u001b[37m\u001b[0m \u001b[1m0s\u001b[0m 5ms/step - accuracy: 1.0000 - loss: 0.2884 - val_accuracy: 1.0000 - val_loss: 0.1174\n",
            "Epoch 5/10\n",
            "\u001b[1m25/25\u001b[0m \u001b[32m━━━━━━━━━━━━━━━━━━━━\u001b[0m\u001b[37m\u001b[0m \u001b[1m0s\u001b[0m 5ms/step - accuracy: 1.0000 - loss: 0.0916 - val_accuracy: 1.0000 - val_loss: 0.0333\n",
            "Epoch 6/10\n",
            "\u001b[1m25/25\u001b[0m \u001b[32m━━━━━━━━━━━━━━━━━━━━\u001b[0m\u001b[37m\u001b[0m \u001b[1m0s\u001b[0m 6ms/step - accuracy: 1.0000 - loss: 0.0277 - val_accuracy: 1.0000 - val_loss: 0.0129\n",
            "Epoch 7/10\n",
            "\u001b[1m25/25\u001b[0m \u001b[32m━━━━━━━━━━━━━━━━━━━━\u001b[0m\u001b[37m\u001b[0m \u001b[1m0s\u001b[0m 5ms/step - accuracy: 1.0000 - loss: 0.0115 - val_accuracy: 1.0000 - val_loss: 0.0069\n",
            "Epoch 8/10\n",
            "\u001b[1m25/25\u001b[0m \u001b[32m━━━━━━━━━━━━━━━━━━━━\u001b[0m\u001b[37m\u001b[0m \u001b[1m0s\u001b[0m 5ms/step - accuracy: 1.0000 - loss: 0.0059 - val_accuracy: 1.0000 - val_loss: 0.0040\n",
            "Epoch 9/10\n",
            "\u001b[1m25/25\u001b[0m \u001b[32m━━━━━━━━━━━━━━━━━━━━\u001b[0m\u001b[37m\u001b[0m \u001b[1m0s\u001b[0m 5ms/step - accuracy: 1.0000 - loss: 0.0035 - val_accuracy: 1.0000 - val_loss: 0.0025\n",
            "Epoch 10/10\n",
            "\u001b[1m25/25\u001b[0m \u001b[32m━━━━━━━━━━━━━━━━━━━━\u001b[0m\u001b[37m\u001b[0m \u001b[1m0s\u001b[0m 6ms/step - accuracy: 1.0000 - loss: 0.0023 - val_accuracy: 1.0000 - val_loss: 0.0017\n"
          ]
        },
        {
          "output_type": "execute_result",
          "data": {
            "text/plain": [
              "<keras.src.callbacks.history.History at 0x7bd1a7c08d90>"
            ]
          },
          "metadata": {},
          "execution_count": 19
        }
      ]
    },
    {
      "cell_type": "markdown",
      "source": [
        "# Step 4: Make a Prediction"
      ],
      "metadata": {
        "id": "Vp-2B6OjIzRs"
      }
    },
    {
      "cell_type": "code",
      "source": [
        "# Simulate a new vibration sequence\n",
        "new_sample = np.random.normal(loc=0.6, scale=0.1, size=(1, 100, 1))  # A sample with moderate vibration\n",
        "prediction = model.predict(new_sample)"
      ],
      "metadata": {
        "colab": {
          "base_uri": "https://localhost:8080/"
        },
        "id": "KRic3V2-IxTn",
        "outputId": "323f5b2d-1d27-43ba-84c9-fa804e37241f"
      },
      "execution_count": 28,
      "outputs": [
        {
          "output_type": "stream",
          "name": "stdout",
          "text": [
            "\u001b[1m1/1\u001b[0m \u001b[32m━━━━━━━━━━━━━━━━━━━━\u001b[0m\u001b[37m\u001b[0m \u001b[1m0s\u001b[0m 29ms/step\n"
          ]
        }
      ]
    },
    {
      "cell_type": "code",
      "source": [
        "print(\"Prediction:\", prediction)"
      ],
      "metadata": {
        "id": "4PL70mZqR0QE",
        "outputId": "08dc60e5-da9e-4d29-ea4e-650cbbae6a61",
        "colab": {
          "base_uri": "https://localhost:8080/"
        }
      },
      "execution_count": 29,
      "outputs": [
        {
          "output_type": "stream",
          "name": "stdout",
          "text": [
            "Prediction: [[0.08433844]]\n"
          ]
        }
      ]
    },
    {
      "cell_type": "code",
      "source": [
        "print(\"Prediction:\", prediction)\n",
        "if prediction >= 0.5:\n",
        "    print(\"The machine is predicted to be FAULTY.\")\n",
        "else:\n",
        "    print(\"The machine is predicted to be NORMAL.\")"
      ],
      "metadata": {
        "colab": {
          "base_uri": "https://localhost:8080/"
        },
        "id": "uAMSsPm1I8QX",
        "outputId": "dbd1be6b-50d2-4e18-f17c-82159aeb3c36"
      },
      "execution_count": 30,
      "outputs": [
        {
          "output_type": "stream",
          "name": "stdout",
          "text": [
            "Prediction: [[0.08433844]]\n",
            "The machine is predicted to be NORMAL.\n"
          ]
        }
      ]
    }
  ]
}