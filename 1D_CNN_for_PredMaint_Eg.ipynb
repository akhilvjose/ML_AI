{
  "nbformat": 4,
  "nbformat_minor": 0,
  "metadata": {
    "colab": {
      "provenance": [],
      "authorship_tag": "ABX9TyMDXPUxuNlqNH3sgGonas8D",
      "include_colab_link": true
    },
    "kernelspec": {
      "name": "python3",
      "display_name": "Python 3"
    },
    "language_info": {
      "name": "python"
    }
  },
  "cells": [
    {
      "cell_type": "markdown",
      "metadata": {
        "id": "view-in-github",
        "colab_type": "text"
      },
      "source": [
        "<a href=\"https://colab.research.google.com/github/akhilvjose/ML_AI/blob/main/1D_CNN_for_PredMaint_Eg.ipynb\" target=\"_parent\"><img src=\"https://colab.research.google.com/assets/colab-badge.svg\" alt=\"Open In Colab\"/></a>"
      ]
    },
    {
      "cell_type": "code",
      "execution_count": 1,
      "metadata": {
        "id": "Mlnlw4-kH3Vr"
      },
      "outputs": [],
      "source": [
        "import numpy as np\n",
        "import tensorflow as tf\n",
        "from tensorflow.keras.models import Sequential\n",
        "from tensorflow.keras.layers import Conv1D, MaxPooling1D, Flatten, Dense\n"
      ]
    },
    {
      "cell_type": "markdown",
      "source": [
        "# Step 1: Generate Simulated Data\n",
        "# Simulating 1000 samples of vibration data\n",
        "# Each sample has 100 timesteps and 1 feature (vibration intensity)"
      ],
      "metadata": {
        "id": "bNKpvNOhIGhs"
      }
    },
    {
      "cell_type": "code",
      "source": [
        "# \"Normal\" data (label: 0)\n",
        "normal_data = np.random.normal(loc=0.5, scale=0.1, size=(500, 100, 1))  # Vibration centered around 0.5\n",
        "normal_labels = np.zeros(500)  # Label 0 for \"normal\""
      ],
      "metadata": {
        "id": "Kigsa___II0z"
      },
      "execution_count": 2,
      "outputs": []
    },
    {
      "cell_type": "code",
      "source": [
        "# \"Faulty\" data (label: 1)\n",
        "faulty_data = np.random.normal(loc=0.8, scale=0.1, size=(500, 100, 1))  # Vibration centered around 0.8\n",
        "faulty_labels = np.ones(500)  # Label 1 for \"faulty\""
      ],
      "metadata": {
        "id": "bxhFgVOtILuw"
      },
      "execution_count": 3,
      "outputs": []
    },
    {
      "cell_type": "code",
      "source": [
        "# Combine the data and labels\n",
        "X = np.concatenate([normal_data, faulty_data], axis=0)\n",
        "y = np.concatenate([normal_labels, faulty_labels], axis=0)"
      ],
      "metadata": {
        "id": "gtBHhx7QISFG"
      },
      "execution_count": 4,
      "outputs": []
    },
    {
      "cell_type": "code",
      "source": [
        "# Shuffle the data\n",
        "indices = np.arange(len(X))\n",
        "np.random.shuffle(indices)\n",
        "X = X[indices]\n",
        "y = y[indices]"
      ],
      "metadata": {
        "id": "1zKdNn6vIVQk"
      },
      "execution_count": 5,
      "outputs": []
    },
    {
      "cell_type": "markdown",
      "source": [
        "# Step 2: Build the 1D CNN Model"
      ],
      "metadata": {
        "id": "Md9JqOR-IXcZ"
      }
    },
    {
      "cell_type": "code",
      "source": [
        "model = Sequential()\n",
        "model.add(Conv1D(filters=16, kernel_size=3, activation='relu', input_shape=(100, 1)))"
      ],
      "metadata": {
        "colab": {
          "base_uri": "https://localhost:8080/"
        },
        "id": "59TKDA42Idx4",
        "outputId": "241bafb7-b811-40cc-9e1e-8a247d6655c7"
      },
      "execution_count": 6,
      "outputs": [
        {
          "output_type": "stream",
          "name": "stderr",
          "text": [
            "/usr/local/lib/python3.11/dist-packages/keras/src/layers/convolutional/base_conv.py:107: UserWarning: Do not pass an `input_shape`/`input_dim` argument to a layer. When using Sequential models, prefer using an `Input(shape)` object as the first layer in the model instead.\n",
            "  super().__init__(activity_regularizer=activity_regularizer, **kwargs)\n"
          ]
        }
      ]
    },
    {
      "cell_type": "code",
      "source": [
        "# Add a MaxPooling1D layer to reduce the data size\n",
        "model.add(MaxPooling1D(pool_size=2))"
      ],
      "metadata": {
        "id": "9g_CKqjxIipQ"
      },
      "execution_count": 7,
      "outputs": []
    },
    {
      "cell_type": "code",
      "source": [
        "# Add another Conv1D layer to learn more complex patterns\n",
        "model.add(Conv1D(filters=32, kernel_size=3, activation='relu'))\n",
        "model.add(MaxPooling1D(pool_size=2))"
      ],
      "metadata": {
        "id": "4IDu03WjIkAU"
      },
      "execution_count": 8,
      "outputs": []
    },
    {
      "cell_type": "code",
      "source": [
        "# Flatten the data and add a Dense layer for output\n",
        "model.add(Flatten())\n",
        "model.add(Dense(units=1, activation='sigmoid'))  # Sigmoid for binary classification"
      ],
      "metadata": {
        "id": "sM0JRzwiIn6W"
      },
      "execution_count": 9,
      "outputs": []
    },
    {
      "cell_type": "code",
      "source": [
        "# Compile the model\n",
        "model.compile(optimizer='adam', loss='binary_crossentropy', metrics=['accuracy'])"
      ],
      "metadata": {
        "id": "Ke1K0ya9IpiU"
      },
      "execution_count": 10,
      "outputs": []
    },
    {
      "cell_type": "markdown",
      "source": [
        "# Step 3: Train the Model"
      ],
      "metadata": {
        "id": "R6BGUekLIsKv"
      }
    },
    {
      "cell_type": "code",
      "source": [
        "model.fit(X, y, epochs=10, batch_size=32, validation_split=0.2)"
      ],
      "metadata": {
        "colab": {
          "base_uri": "https://localhost:8080/"
        },
        "id": "WA_-4xhMIvGV",
        "outputId": "afcc2b51-18a4-49ea-f184-2cd7cdaec314"
      },
      "execution_count": 11,
      "outputs": [
        {
          "output_type": "stream",
          "name": "stdout",
          "text": [
            "Epoch 1/10\n",
            "\u001b[1m25/25\u001b[0m \u001b[32m━━━━━━━━━━━━━━━━━━━━\u001b[0m\u001b[37m\u001b[0m \u001b[1m2s\u001b[0m 18ms/step - accuracy: 0.5233 - loss: 0.6664 - val_accuracy: 0.4800 - val_loss: 0.6588\n",
            "Epoch 2/10\n",
            "\u001b[1m25/25\u001b[0m \u001b[32m━━━━━━━━━━━━━━━━━━━━\u001b[0m\u001b[37m\u001b[0m \u001b[1m0s\u001b[0m 13ms/step - accuracy: 0.4979 - loss: 0.6470 - val_accuracy: 0.4800 - val_loss: 0.5924\n",
            "Epoch 3/10\n",
            "\u001b[1m25/25\u001b[0m \u001b[32m━━━━━━━━━━━━━━━━━━━━\u001b[0m\u001b[37m\u001b[0m \u001b[1m1s\u001b[0m 13ms/step - accuracy: 0.7661 - loss: 0.5519 - val_accuracy: 1.0000 - val_loss: 0.3973\n",
            "Epoch 4/10\n",
            "\u001b[1m25/25\u001b[0m \u001b[32m━━━━━━━━━━━━━━━━━━━━\u001b[0m\u001b[37m\u001b[0m \u001b[1m0s\u001b[0m 12ms/step - accuracy: 1.0000 - loss: 0.3345 - val_accuracy: 1.0000 - val_loss: 0.1382\n",
            "Epoch 5/10\n",
            "\u001b[1m25/25\u001b[0m \u001b[32m━━━━━━━━━━━━━━━━━━━━\u001b[0m\u001b[37m\u001b[0m \u001b[1m0s\u001b[0m 12ms/step - accuracy: 1.0000 - loss: 0.1003 - val_accuracy: 1.0000 - val_loss: 0.0346\n",
            "Epoch 6/10\n",
            "\u001b[1m25/25\u001b[0m \u001b[32m━━━━━━━━━━━━━━━━━━━━\u001b[0m\u001b[37m\u001b[0m \u001b[1m1s\u001b[0m 12ms/step - accuracy: 1.0000 - loss: 0.0263 - val_accuracy: 1.0000 - val_loss: 0.0133\n",
            "Epoch 7/10\n",
            "\u001b[1m25/25\u001b[0m \u001b[32m━━━━━━━━━━━━━━━━━━━━\u001b[0m\u001b[37m\u001b[0m \u001b[1m0s\u001b[0m 12ms/step - accuracy: 1.0000 - loss: 0.0112 - val_accuracy: 1.0000 - val_loss: 0.0074\n",
            "Epoch 8/10\n",
            "\u001b[1m25/25\u001b[0m \u001b[32m━━━━━━━━━━━━━━━━━━━━\u001b[0m\u001b[37m\u001b[0m \u001b[1m0s\u001b[0m 13ms/step - accuracy: 1.0000 - loss: 0.0064 - val_accuracy: 1.0000 - val_loss: 0.0049\n",
            "Epoch 9/10\n",
            "\u001b[1m25/25\u001b[0m \u001b[32m━━━━━━━━━━━━━━━━━━━━\u001b[0m\u001b[37m\u001b[0m \u001b[1m1s\u001b[0m 9ms/step - accuracy: 1.0000 - loss: 0.0044 - val_accuracy: 1.0000 - val_loss: 0.0035\n",
            "Epoch 10/10\n",
            "\u001b[1m25/25\u001b[0m \u001b[32m━━━━━━━━━━━━━━━━━━━━\u001b[0m\u001b[37m\u001b[0m \u001b[1m0s\u001b[0m 8ms/step - accuracy: 1.0000 - loss: 0.0033 - val_accuracy: 1.0000 - val_loss: 0.0027\n"
          ]
        },
        {
          "output_type": "execute_result",
          "data": {
            "text/plain": [
              "<keras.src.callbacks.history.History at 0x7b717eb4ff90>"
            ]
          },
          "metadata": {},
          "execution_count": 11
        }
      ]
    },
    {
      "cell_type": "markdown",
      "source": [
        "# Step 4: Make a Prediction"
      ],
      "metadata": {
        "id": "Vp-2B6OjIzRs"
      }
    },
    {
      "cell_type": "code",
      "source": [
        "# Simulate a new vibration sequence\n",
        "new_sample = np.random.normal(loc=0.6, scale=0.1, size=(1, 100, 1))  # A sample with moderate vibration\n",
        "prediction = model.predict(new_sample)"
      ],
      "metadata": {
        "colab": {
          "base_uri": "https://localhost:8080/"
        },
        "id": "KRic3V2-IxTn",
        "outputId": "0664b2a8-f804-4e6c-cef8-16d330688c2f"
      },
      "execution_count": 12,
      "outputs": [
        {
          "output_type": "stream",
          "name": "stdout",
          "text": [
            "\u001b[1m1/1\u001b[0m \u001b[32m━━━━━━━━━━━━━━━━━━━━\u001b[0m\u001b[37m\u001b[0m \u001b[1m0s\u001b[0m 116ms/step\n"
          ]
        }
      ]
    },
    {
      "cell_type": "code",
      "source": [
        "print(\"Prediction:\", prediction)\n",
        "if prediction >= 0.5:\n",
        "    print(\"The machine is predicted to be FAULTY.\")\n",
        "else:\n",
        "    print(\"The machine is predicted to be NORMAL.\")"
      ],
      "metadata": {
        "colab": {
          "base_uri": "https://localhost:8080/"
        },
        "id": "uAMSsPm1I8QX",
        "outputId": "7da9471b-14d2-4cdc-e3bf-4b27b4a2599c"
      },
      "execution_count": 13,
      "outputs": [
        {
          "output_type": "stream",
          "name": "stdout",
          "text": [
            "Prediction: [[0.28388482]]\n",
            "The machine is predicted to be NORMAL.\n"
          ]
        }
      ]
    }
  ]
}